{
  "nbformat": 4,
  "nbformat_minor": 0,
  "metadata": {
    "colab": {
      "provenance": [],
      "authorship_tag": "ABX9TyNbQfOOI+IMiDnj2IlVYUdu",
      "include_colab_link": true
    },
    "kernelspec": {
      "name": "python3",
      "display_name": "Python 3"
    },
    "language_info": {
      "name": "python"
    }
  },
  "cells": [
    {
      "cell_type": "markdown",
      "metadata": {
        "id": "view-in-github",
        "colab_type": "text"
      },
      "source": [
        "<a href=\"https://colab.research.google.com/github/sonaliyadav55/Python-Project/blob/main/Python_Mandatory_Project.ipynb\" target=\"_parent\"><img src=\"https://colab.research.google.com/assets/colab-badge.svg\" alt=\"Open In Colab\"/></a>"
      ]
    },
    {
      "cell_type": "code",
      "source": [
        "# Q1\n",
        "\n",
        "#You are working in a bank, and you have been given two lists of the employees who worked in 2021.\n",
        "#Employees’ names in list 1 are Ramesh, Suresh, Mahesh, Ali, Jacob, and Saritha. List 2 contains the names of Ali, Mukesh, Mahesh, Jacob, Sai, and Sarita.\n",
        "# Please write a program that helps to identify people who are common in both lists. Please do not use any in-built function.\n",
        "\n",
        "\n",
        "emp1= ['Ramesh','Suresh','Mahesh','Ali','Jacob','Saritha']\n",
        "emp2= ['Ali', 'Mukesh', 'Mahesh', 'Jacob', 'Sai', 'Sarita']\n",
        "\n",
        "for i in emp1:\n",
        "  for j in emp2:\n",
        "    if i==j:\n",
        "      print(i)\n"
      ],
      "metadata": {
        "colab": {
          "base_uri": "https://localhost:8080/"
        },
        "id": "W9FPm7_ulQyX",
        "outputId": "19594622-dff7-420c-a6c1-97386adda70e"
      },
      "execution_count": null,
      "outputs": [
        {
          "output_type": "stream",
          "name": "stdout",
          "text": [
            "Mahesh\n",
            "Ali\n",
            "Jacob\n"
          ]
        }
      ]
    },
    {
      "cell_type": "code",
      "source": [
        "# QUESTION 2\n",
        "\n",
        "data= \"Ramesh Suresh Mohit\"\n",
        "\n",
        "list =data.split()    #convert string to list using split function\n",
        "print(list)\n",
        "\n",
        "age=[25,22,26]\n",
        "\n",
        "print(sum(age))\n",
        "\n",
        "for i in list:\n",
        "  age.append(i)\n",
        "\n",
        "for name,age in zip(list,age):\n",
        "  print(name,':',age)\n",
        "\n"
      ],
      "metadata": {
        "colab": {
          "base_uri": "https://localhost:8080/"
        },
        "id": "ldtXGWRElQ07",
        "outputId": "a29d5929-ee0c-4a68-c273-4e0c334a24b2"
      },
      "execution_count": null,
      "outputs": [
        {
          "output_type": "stream",
          "name": "stdout",
          "text": [
            "['Ramesh', 'Suresh', 'Mohit']\n",
            "73\n",
            "Ramesh : 25\n",
            "Suresh : 22\n",
            "Mohit : 26\n"
          ]
        }
      ]
    },
    {
      "cell_type": "code",
      "source": [
        "#QUESTION 3\n",
        "\n",
        "strip_quant= { 'paracetamol':2,'azithromycin':3, 'Vitamin C':5}\n",
        "strip_price= { 'paracetamol':35,'azithromycin':49, 'Vitamin C':33}\n",
        "\n",
        "money=2000\n",
        "total=0\n",
        "\n",
        "for i,j in strip_quant.items():\n",
        "  if i in strip_price:\n",
        "    each=strip_price[i] * j\n",
        "    total=total + each\n",
        "\n",
        "\n",
        "  total_each_cost=strip_quant.get(i)*strip_price.get(i)\n",
        "\n",
        "\n",
        "  print(total_each_cost)\n",
        "print('total cost of all medicine:',total)\n",
        "print('money refunded to the patient:',money-total)\n"
      ],
      "metadata": {
        "colab": {
          "base_uri": "https://localhost:8080/"
        },
        "id": "2An6gavLlQ3j",
        "outputId": "01abb180-3e02-4f81-fd6a-711819403c0c"
      },
      "execution_count": null,
      "outputs": [
        {
          "output_type": "stream",
          "name": "stdout",
          "text": [
            "70\n",
            "147\n",
            "165\n",
            "total cost of all medicine: 382\n",
            "money refunded to the patient: 1618\n"
          ]
        }
      ]
    },
    {
      "cell_type": "code",
      "source": [
        "#QUESTION 4\n",
        "\n",
        "st=input('Enter the string : ')\n",
        "count=0\n",
        "vowel='AEIOUaeiou'\n",
        "for i in st:\n",
        "  if i in vowel:\n",
        "    count+=1\n",
        "print(count)"
      ],
      "metadata": {
        "colab": {
          "base_uri": "https://localhost:8080/"
        },
        "id": "xe3fi85t9Ze_",
        "outputId": "1e1cdd6b-1622-4e59-a637-60f013e6bed3"
      },
      "execution_count": null,
      "outputs": [
        {
          "output_type": "stream",
          "name": "stdout",
          "text": [
            "Enter the string : my name is sonali\n",
            "6\n"
          ]
        }
      ]
    },
    {
      "cell_type": "code",
      "source": [
        "#QUESTION 5\n",
        "\n",
        "def candidate(age):\n",
        "  remain_age=18-age\n",
        "\n",
        "  if age >= 18:\n",
        "    return '‘Congrats! You are eligible’'\n",
        "  else:\n",
        "    return 'return after {} years'.format(remain_age)\n",
        "\n",
        "candidate(2)"
      ],
      "metadata": {
        "colab": {
          "base_uri": "https://localhost:8080/",
          "height": 36
        },
        "id": "oSQ5PMxDlQ8U",
        "outputId": "3b3fa169-2a92-42db-c75e-39f3bf0eb7ef"
      },
      "execution_count": null,
      "outputs": [
        {
          "output_type": "execute_result",
          "data": {
            "text/plain": [
              "'return after 16 years'"
            ],
            "application/vnd.google.colaboratory.intrinsic+json": {
              "type": "string"
            }
          },
          "metadata": {},
          "execution_count": 17
        }
      ]
    },
    {
      "cell_type": "code",
      "source": [
        "#QUESTION 6\n",
        "\n",
        "A = [1, 2, 3, 4, 5]\n",
        "B=[]\n",
        "sum=0\n",
        "\n",
        "for i in A:\n",
        "  sum=sum+i\n",
        "  B.append(sum)\n",
        "print(B)\n"
      ],
      "metadata": {
        "colab": {
          "base_uri": "https://localhost:8080/"
        },
        "id": "9g7JFMjBlQ-h",
        "outputId": "8094f6b9-6f09-49c9-db71-3367edf0d14e"
      },
      "execution_count": null,
      "outputs": [
        {
          "output_type": "stream",
          "name": "stdout",
          "text": [
            "[1, 3, 6, 10, 15]\n"
          ]
        }
      ]
    },
    {
      "cell_type": "code",
      "source": [
        "#QUESTION 7\n",
        "\n",
        "A = input('enter your message:')\n",
        "\n",
        "vowels = ['a', 'e', 'i', 'o', 'u']\n",
        "result = \"\"\n",
        "\n",
        "for i in range(len(A)):\n",
        "    if A[i] not in vowels:\n",
        "        result = result + A[i]\n",
        "\n",
        "print( result)\n"
      ],
      "metadata": {
        "id": "3TKhEAZHlRB1",
        "colab": {
          "base_uri": "https://localhost:8080/"
        },
        "outputId": "bc27ee32-bd8c-412d-8e77-9c166c735d8f"
      },
      "execution_count": null,
      "outputs": [
        {
          "output_type": "stream",
          "name": "stdout",
          "text": [
            "enter your message:my name is sonali\n",
            "my nm s snl\n"
          ]
        }
      ]
    },
    {
      "cell_type": "code",
      "source": [
        "# QUESTION 8\n",
        "A=input('enter your string:')\n",
        "\n",
        "encoded = \"\"\n",
        "\n",
        "i = 0\n",
        "while i < len(A):\n",
        "  count = 1\n",
        "\n",
        "  while i + 1 < len(A) and A[i] == A[i + 1]:\n",
        "        count = count + 1\n",
        "        i = i + 1\n",
        "\n",
        "  encoded = encoded + str(count) + A[i]\n",
        "  i = i + 1\n",
        "\n",
        "print(encoded)"
      ],
      "metadata": {
        "colab": {
          "base_uri": "https://localhost:8080/"
        },
        "id": "vzksJUxsxFVB",
        "outputId": "55cf68ea-8aa3-42be-9716-17f8a807e54d"
      },
      "execution_count": null,
      "outputs": [
        {
          "output_type": "stream",
          "name": "stdout",
          "text": [
            "enter your string:aabbbcc\n",
            "2a3b2c\n"
          ]
        }
      ]
    }
  ]
}